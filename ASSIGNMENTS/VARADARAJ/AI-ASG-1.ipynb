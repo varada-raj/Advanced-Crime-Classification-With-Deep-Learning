{
 "cells": [
  {
   "cell_type": "code",
   "execution_count": 1,
   "id": "a47ef071",
   "metadata": {},
   "outputs": [],
   "source": [
    "#VARADARAJ KAMISETTY - 20MID0086\n",
    "#VIT VELLORE\n",
    "#AI assignment -1 \n",
    "\n",
    "import numpy as np\n",
    "import pandas as pd"
   ]
  },
  {
   "cell_type": "code",
   "execution_count": 2,
   "id": "7842e717",
   "metadata": {},
   "outputs": [],
   "source": [
    "# Set the random seed for reproducibility\n",
    "np.random.seed(42)"
   ]
  },
  {
   "cell_type": "code",
   "execution_count": 3,
   "id": "9409e12c",
   "metadata": {},
   "outputs": [],
   "source": [
    "# Create random values\n",
    "data = np.random.rand(4, 4)"
   ]
  },
  {
   "cell_type": "code",
   "execution_count": 4,
   "id": "fea7feba",
   "metadata": {},
   "outputs": [],
   "source": [
    "# Create the DataFrame\n",
    "df = pd.DataFrame(data, columns=['Feature1', 'Feature2', 'Feature3', 'Feature4'])"
   ]
  },
  {
   "cell_type": "code",
   "execution_count": 5,
   "id": "ea371e31",
   "metadata": {},
   "outputs": [
    {
     "name": "stdout",
     "output_type": "stream",
     "text": [
      "   Feature1  Feature2  Feature3  Feature4\n",
      "0  0.374540  0.950714  0.731994  0.598658\n",
      "1  0.156019  0.155995  0.058084  0.866176\n",
      "2  0.601115  0.708073  0.020584  0.969910\n",
      "3  0.832443  0.212339  0.181825  0.183405\n"
     ]
    }
   ],
   "source": [
    "print(df)"
   ]
  },
  {
   "cell_type": "code",
   "execution_count": 6,
   "id": "f917e7ff",
   "metadata": {},
   "outputs": [],
   "source": [
    "#Rename the task - 1 'df' dataframe column names to 'Random value 1', 'Random value 2', 'Random value 3' & 'Random value 4"
   ]
  },
  {
   "cell_type": "code",
   "execution_count": 7,
   "id": "17f4e48d",
   "metadata": {},
   "outputs": [],
   "source": [
    "df.rename(columns={'Feature1': 'Random value 1', 'Feature2': 'Random value 2',\n",
    "                   'Feature3': 'Random value 3', 'Feature4': 'Random value 4'},\n",
    "          inplace=True)"
   ]
  },
  {
   "cell_type": "code",
   "execution_count": 8,
   "id": "0dd5e4be",
   "metadata": {},
   "outputs": [
    {
     "name": "stdout",
     "output_type": "stream",
     "text": [
      "   Random value 1  Random value 2  Random value 3  Random value 4\n",
      "0        0.374540        0.950714        0.731994        0.598658\n",
      "1        0.156019        0.155995        0.058084        0.866176\n",
      "2        0.601115        0.708073        0.020584        0.969910\n",
      "3        0.832443        0.212339        0.181825        0.183405\n"
     ]
    }
   ],
   "source": [
    "print(df)"
   ]
  },
  {
   "cell_type": "code",
   "execution_count": 9,
   "id": "3dfe17d5",
   "metadata": {},
   "outputs": [],
   "source": [
    "#Check for the null values in 'df' and find the data type of the columns"
   ]
  },
  {
   "cell_type": "code",
   "execution_count": 10,
   "id": "2b4a06b6",
   "metadata": {},
   "outputs": [],
   "source": [
    "# Check for null values\n",
    "null_val = df.isnull().sum()"
   ]
  },
  {
   "cell_type": "code",
   "execution_count": 11,
   "id": "f35e9a3b",
   "metadata": {},
   "outputs": [
    {
     "name": "stdout",
     "output_type": "stream",
     "text": [
      "Null Values:\n",
      " Random value 1    0\n",
      "Random value 2    0\n",
      "Random value 3    0\n",
      "Random value 4    0\n",
      "dtype: int64\n"
     ]
    }
   ],
   "source": [
    "# Print null values\n",
    "print(\"Null Values:\\n\", null_val)"
   ]
  },
  {
   "cell_type": "code",
   "execution_count": 12,
   "id": "9aac114c",
   "metadata": {},
   "outputs": [],
   "source": [
    "# Find data types of columns\n",
    "data_types = df.dtypes"
   ]
  },
  {
   "cell_type": "code",
   "execution_count": 13,
   "id": "3a7ea203",
   "metadata": {},
   "outputs": [
    {
     "name": "stdout",
     "output_type": "stream",
     "text": [
      "\n",
      "Data Types:\n",
      " Random value 1    float64\n",
      "Random value 2    float64\n",
      "Random value 3    float64\n",
      "Random value 4    float64\n",
      "dtype: object\n"
     ]
    }
   ],
   "source": [
    "# Print data types\n",
    "print(\"\\nData Types:\\n\", data_types)"
   ]
  },
  {
   "cell_type": "code",
   "execution_count": 14,
   "id": "8fded81b",
   "metadata": {},
   "outputs": [],
   "source": [
    "#Display the 'Random value 2' & 'Random value 3' columns with location method and index location method"
   ]
  },
  {
   "cell_type": "code",
   "execution_count": 15,
   "id": "21814f8f",
   "metadata": {},
   "outputs": [],
   "source": [
    "# Display columns using location method\n",
    "location_method_cols = df.loc[:, ['Random value 2', 'Random value 3']]"
   ]
  },
  {
   "cell_type": "code",
   "execution_count": 16,
   "id": "9515f469",
   "metadata": {},
   "outputs": [
    {
     "name": "stdout",
     "output_type": "stream",
     "text": [
      "Columns using location method:\n",
      "    Random value 2  Random value 3\n",
      "0        0.950714        0.731994\n",
      "1        0.155995        0.058084\n",
      "2        0.708073        0.020584\n",
      "3        0.212339        0.181825\n"
     ]
    }
   ],
   "source": [
    "print(\"Columns using location method:\\n\", location_method_cols)"
   ]
  },
  {
   "cell_type": "code",
   "execution_count": 17,
   "id": "c6a2ae5c",
   "metadata": {},
   "outputs": [
    {
     "name": "stdout",
     "output_type": "stream",
     "text": [
      "\n",
      "Columns using index location method:\n",
      "    Random value 2  Random value 3\n",
      "0        0.950714        0.731994\n",
      "1        0.155995        0.058084\n",
      "2        0.708073        0.020584\n",
      "3        0.212339        0.181825\n"
     ]
    }
   ],
   "source": [
    "# Display columns using index location method\n",
    "index_location_method_cols = df.iloc[:, [1, 2]]\n",
    "print(\"\\nColumns using index location method:\\n\", index_location_method_cols)"
   ]
  },
  {
   "cell_type": "code",
   "execution_count": null,
   "id": "e00c0539",
   "metadata": {},
   "outputs": [],
   "source": []
  }
 ],
 "metadata": {
  "kernelspec": {
   "display_name": "Python 3 (ipykernel)",
   "language": "python",
   "name": "python3"
  },
  "language_info": {
   "codemirror_mode": {
    "name": "ipython",
    "version": 3
   },
   "file_extension": ".py",
   "mimetype": "text/x-python",
   "name": "python",
   "nbconvert_exporter": "python",
   "pygments_lexer": "ipython3",
   "version": "3.9.12"
  }
 },
 "nbformat": 4,
 "nbformat_minor": 5
}
