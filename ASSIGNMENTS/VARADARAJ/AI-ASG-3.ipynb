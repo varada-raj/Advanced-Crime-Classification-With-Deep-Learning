{
  "cells": [
    {
      "cell_type": "code",
      "execution_count": null,
      "metadata": {
        "id": "DmNCn7no3RzW"
      },
      "outputs": [],
      "source": [
        "NAME: VARADARAJ KAMISETTY\n",
        "REG.NO: 20MID0086\n",
        "ASSIGNMENT: 3"
      ]
    },
    {
      "attachments": {},
      "cell_type": "markdown",
      "metadata": {
        "id": "_jM1d9UJ4bQZ"
      },
      "source": [
        "!unzip '/content/drive/MyDrive/archive (1).zip'"
      ]
    },
    {
      "cell_type": "code",
      "execution_count": null,
      "metadata": {
        "id": "CrJ3_Qd1wP7i"
      },
      "outputs": [],
      "source": [
        "# Data Augmentation\n",
        "\n",
        "from tensorflow.keras.preprocessing.image import ImageDataGenerator\n",
        "train_gen = ImageDataGenerator(rescale=(1./255),horizontal_flip=True,shear_range=0.2)\n",
        "test_gen = ImageDataGenerator(rescale=(1./255))  #--> (0 to 255) convert to (0 to 1)"
      ]
    },
    {
      "cell_type": "code",
      "execution_count": null,
      "metadata": {
        "colab": {
          "base_uri": "https://localhost:8080/"
        },
        "id": "AoDKTkdTfQ_m",
        "outputId": "76b23979-2292-4507-e5d4-f4f94e230fb5"
      },
      "outputs": [
        {
          "name": "stdout",
          "output_type": "stream",
          "text": [
            "Found 150 images belonging to 16 classes.\n",
            "Found 157 images belonging to 16 classes.\n"
          ]
        }
      ],
      "source": [
        "train = train_gen.flow_from_directory('/content/train_data/train_data',\n",
        "                                      target_size=(120, 120),\n",
        "                                      class_mode='categorical', \n",
        "                                      batch_size=8)\n",
        "test = test_gen.flow_from_directory('/content/test_data/test_data',\n",
        "                                    target_size=(120, 120),\n",
        "                                      class_mode='categorical', \n",
        "                                      batch_size=8)\n",
        "     "
      ]
    },
    {
      "cell_type": "code",
      "execution_count": null,
      "metadata": {
        "colab": {
          "base_uri": "https://localhost:8080/"
        },
        "id": "U_04xdmmxOUs",
        "outputId": "0365a63c-0df7-4701-a9e9-6a7203774c64"
      },
      "outputs": [
        {
          "data": {
            "text/plain": [
              "{'blasti': 0,\n",
              " 'bonegl': 1,\n",
              " 'brhkyt': 2,\n",
              " 'cbrtsh': 3,\n",
              " 'cmnmyn': 4,\n",
              " 'gretit': 5,\n",
              " 'hilpig': 6,\n",
              " 'himbul': 7,\n",
              " 'himgri': 8,\n",
              " 'hsparo': 9,\n",
              " 'indvul': 10,\n",
              " 'jglowl': 11,\n",
              " 'lbicrw': 12,\n",
              " 'mgprob': 13,\n",
              " 'rebimg': 14,\n",
              " 'wcrsrt': 15}"
            ]
          },
          "execution_count": 8,
          "metadata": {},
          "output_type": "execute_result"
        }
      ],
      "source": [
        "train.class_indices"
      ]
    },
    {
      "cell_type": "code",
      "execution_count": null,
      "metadata": {
        "id": "-p6FHj9eIB_b"
      },
      "outputs": [],
      "source": [
        "# CNN\n",
        "from tensorflow.keras.layers import Convolution2D,MaxPooling2D,Flatten,Dense\n",
        "from tensorflow.keras.models import Sequential"
      ]
    },
    {
      "cell_type": "code",
      "execution_count": null,
      "metadata": {
        "id": "kReCGtC3fg2f"
      },
      "outputs": [],
      "source": [
        "model = Sequential()\n",
        "model.add(Convolution2D(20,(3,3),activation='relu',input_shape=(120, 120, 3)))\n",
        "model.add(MaxPooling2D(pool_size=(2,2)))\n",
        "model.add(Flatten())\n",
        "model.add(Dense(45,activation='relu'))\n",
        "model.add(Dense(16,activation='softmax'))"
      ]
    },
    {
      "cell_type": "code",
      "execution_count": null,
      "metadata": {
        "id": "R8csOSWmgKzA"
      },
      "outputs": [],
      "source": [
        "model.compile(optimizer='adam',loss='categorical_crossentropy',metrics=['accuracy'])"
      ]
    },
    {
      "cell_type": "code",
      "execution_count": null,
      "metadata": {
        "colab": {
          "base_uri": "https://localhost:8080/"
        },
        "id": "2Y2lSqPRIRR9",
        "outputId": "78047bdb-04e3-4ec7-ba3a-4ec51970c856"
      },
      "outputs": [
        {
          "name": "stdout",
          "output_type": "stream",
          "text": [
            "Epoch 1/20\n",
            "19/19 [==============================] - 89s 5s/step - loss: 3.7453 - accuracy: 0.1533 - val_loss: 2.7484 - val_accuracy: 0.1274\n",
            "Epoch 2/20\n",
            "19/19 [==============================] - 83s 5s/step - loss: 2.6261 - accuracy: 0.1933 - val_loss: 2.7914 - val_accuracy: 0.1847\n",
            "Epoch 3/20\n",
            "19/19 [==============================] - 83s 5s/step - loss: 2.3595 - accuracy: 0.3067 - val_loss: 2.7364 - val_accuracy: 0.2038\n",
            "Epoch 4/20\n",
            "19/19 [==============================] - 84s 5s/step - loss: 2.2175 - accuracy: 0.3000 - val_loss: 2.5962 - val_accuracy: 0.2102\n",
            "Epoch 5/20\n",
            "19/19 [==============================] - 83s 5s/step - loss: 2.1155 - accuracy: 0.3867 - val_loss: 2.5395 - val_accuracy: 0.1975\n",
            "Epoch 6/20\n",
            "19/19 [==============================] - 82s 4s/step - loss: 1.8793 - accuracy: 0.4133 - val_loss: 2.7106 - val_accuracy: 0.2229\n",
            "Epoch 7/20\n",
            "19/19 [==============================] - 85s 5s/step - loss: 1.6822 - accuracy: 0.5000 - val_loss: 2.8509 - val_accuracy: 0.2866\n",
            "Epoch 8/20\n",
            "19/19 [==============================] - 83s 5s/step - loss: 1.5243 - accuracy: 0.5400 - val_loss: 2.5815 - val_accuracy: 0.2229\n",
            "Epoch 9/20\n",
            "19/19 [==============================] - 83s 5s/step - loss: 1.3815 - accuracy: 0.6000 - val_loss: 2.6106 - val_accuracy: 0.1911\n",
            "Epoch 10/20\n",
            "19/19 [==============================] - 82s 4s/step - loss: 1.2442 - accuracy: 0.6200 - val_loss: 2.9040 - val_accuracy: 0.2229\n",
            "Epoch 11/20\n",
            "19/19 [==============================] - 82s 4s/step - loss: 1.0892 - accuracy: 0.6867 - val_loss: 2.9905 - val_accuracy: 0.2484\n",
            "Epoch 12/20\n",
            "19/19 [==============================] - 82s 4s/step - loss: 0.9467 - accuracy: 0.7000 - val_loss: 2.8541 - val_accuracy: 0.2229\n",
            "Epoch 13/20\n",
            "19/19 [==============================] - 82s 4s/step - loss: 0.8378 - accuracy: 0.7733 - val_loss: 3.0563 - val_accuracy: 0.2675\n",
            "Epoch 14/20\n",
            "19/19 [==============================] - 82s 4s/step - loss: 0.6851 - accuracy: 0.8400 - val_loss: 2.8489 - val_accuracy: 0.1975\n",
            "Epoch 15/20\n",
            "19/19 [==============================] - 82s 4s/step - loss: 0.5179 - accuracy: 0.8600 - val_loss: 3.1108 - val_accuracy: 0.2038\n",
            "Epoch 16/20\n",
            "19/19 [==============================] - 82s 5s/step - loss: 0.3999 - accuracy: 0.8800 - val_loss: 3.2028 - val_accuracy: 0.2293\n",
            "Epoch 17/20\n",
            "19/19 [==============================] - 82s 4s/step - loss: 0.3219 - accuracy: 0.9400 - val_loss: 3.7455 - val_accuracy: 0.2420\n",
            "Epoch 18/20\n",
            "19/19 [==============================] - 82s 4s/step - loss: 0.2629 - accuracy: 0.9533 - val_loss: 3.2475 - val_accuracy: 0.2420\n",
            "Epoch 19/20\n",
            "19/19 [==============================] - 81s 4s/step - loss: 0.1614 - accuracy: 0.9733 - val_loss: 3.6267 - val_accuracy: 0.2420\n",
            "Epoch 20/20\n",
            "19/19 [==============================] - 81s 4s/step - loss: 0.0939 - accuracy: 0.9933 - val_loss: 3.7223 - val_accuracy: 0.2102\n"
          ]
        },
        {
          "data": {
            "text/plain": [
              "<keras.callbacks.History at 0x7fe31c04c8b0>"
            ]
          },
          "execution_count": 12,
          "metadata": {},
          "output_type": "execute_result"
        }
      ],
      "source": [
        "model.fit(train,batch_size=16,validation_data=test,epochs=20)"
      ]
    },
    {
      "cell_type": "code",
      "execution_count": null,
      "metadata": {
        "id": "26SjrbEYa57Q"
      },
      "outputs": [],
      "source": [
        "from google.colab import drive\n",
        "drive.mount('/content/drive')"
      ]
    },
    {
      "cell_type": "code",
      "execution_count": null,
      "metadata": {
        "id": "Dk4Jr8sKn1qB"
      },
      "outputs": [],
      "source": [
        "model.save('birds.h5')"
      ]
    },
    {
      "cell_type": "code",
      "execution_count": null,
      "metadata": {
        "colab": {
          "base_uri": "https://localhost:8080/"
        },
        "id": "OGES_0zUI576",
        "outputId": "de22d9d8-df98-4496-ba56-3a17b9b9d941"
      },
      "outputs": [
        {
          "name": "stdout",
          "output_type": "stream",
          "text": [
            "1/1 [==============================] - 0s 128ms/step\n",
            "7\n",
            "himbul\n"
          ]
        }
      ],
      "source": [
        "# Testing\n",
        "import numpy as np\n",
        "from tensorflow.keras.preprocessing import image\n",
        "# Testing 1\n",
        "img1 = image.load_img('/content/gretit.JPG',target_size=(120,120))\n",
        "img1 = image.img_to_array(img1)\n",
        "img1 = np.expand_dims(img1,axis=0)\n",
        "pred = np.argmax(model.predict(img1))\n",
        "print(pred)\n",
        "output = ['blasti','bonegl','brhkyt','cbrtsh','cmnmyn','gretit','hilpig','himbul','himgri','hsparo','indvul','jglowl','lbicrw','mgprob','rebimg','wcrsrt']\n",
        "print(output[pred])"
      ]
    },
    {
      "cell_type": "code",
      "execution_count": null,
      "metadata": {
        "colab": {
          "base_uri": "https://localhost:8080/"
        },
        "id": "FLMEF5_Wq5Io",
        "outputId": "402a7271-bebf-4b9d-b81d-7cf7632a28f4"
      },
      "outputs": [
        {
          "name": "stdout",
          "output_type": "stream",
          "text": [
            "1/1 [==============================] - 0s 19ms/step\n",
            "9\n",
            "hsparo\n"
          ]
        }
      ],
      "source": [
        "# Testing 2\n",
        "img2 = image.load_img('/content/hsparo.JPG',target_size=(120,120))\n",
        "img2 = image.img_to_array(img2)\n",
        "img2 = np.expand_dims(img2,axis=0)\n",
        "pred = np.argmax(model.predict(img2))\n",
        "print(pred)\n",
        "output = ['blasti','bonegl','brhkyt','cbrtsh','cmnmyn','gretit','hilpig','himbul','himgri','hsparo','indvul','jglowl','lbicrw','mgprob','rebimg','wcrsrt']\n",
        "print(output[pred])"
      ]
    },
    {
      "cell_type": "code",
      "execution_count": null,
      "metadata": {
        "colab": {
          "base_uri": "https://localhost:8080/"
        },
        "id": "ljZENkugrHb5",
        "outputId": "98f08b80-fd5f-48cc-9991-69a76ea12fe8"
      },
      "outputs": [
        {
          "name": "stdout",
          "output_type": "stream",
          "text": [
            "1/1 [==============================] - 0s 18ms/step\n",
            "1\n",
            "bonegl\n"
          ]
        }
      ],
      "source": [
        "# Testing 3\n",
        "img2 = image.load_img('/content/bonegl.jpg',target_size=(120,120))\n",
        "img2 = image.img_to_array(img2)\n",
        "img2 = np.expand_dims(img2,axis=0)\n",
        "pred = np.argmax(model.predict(img2))\n",
        "print(pred)\n",
        "output = ['blasti','bonegl','brhkyt','cbrtsh','cmnmyn','gretit','hilpig','himbul','himgri','hsparo','indvul','jglowl','lbicrw','mgprob','rebimg','wcrsrt']\n",
        "print(output[pred])"
      ]
    },
    {
      "cell_type": "code",
      "execution_count": null,
      "metadata": {
        "colab": {
          "base_uri": "https://localhost:8080/"
        },
        "id": "Ic30wJFZrwWc",
        "outputId": "38c7851e-1e6d-48c0-e197-9d4194fee9dc"
      },
      "outputs": [
        {
          "name": "stdout",
          "output_type": "stream",
          "text": [
            "1/1 [==============================] - 0s 19ms/step\n",
            "8\n",
            "himgri\n"
          ]
        }
      ],
      "source": [
        "# Testing 5\n",
        "img2 = image.load_img('/content/himgri.jpg',target_size=(120,120))\n",
        "img2 = image.img_to_array(img2)\n",
        "img2 = np.expand_dims(img2,axis=0)\n",
        "pred = np.argmax(model.predict(img2))\n",
        "print(pred)\n",
        "output = ['blasti','bonegl','brhkyt','cbrtsh','cmnmyn','gretit','hilpig','himbul','himgri','hsparo','indvul','jglowl','lbicrw','mgprob','rebimg','wcrsrt']\n",
        "print(output[pred])"
      ]
    },
    {
      "attachments": {},
      "cell_type": "markdown",
      "metadata": {
        "id": "2YD55GPxsZ80"
      },
      "source": [
        "Model Tuning"
      ]
    },
    {
      "cell_type": "code",
      "execution_count": null,
      "metadata": {
        "id": "uhG6siy6scnn"
      },
      "outputs": [],
      "source": [
        "model = Sequential()\n",
        "model.add(Convolution2D(12,(3,3),activation='relu',input_shape=(120, 120, 3)))\n",
        "model.add(MaxPooling2D(pool_size=(2,2)))\n",
        "model.add(Convolution2D(24,(3,3),activation='relu'))\n",
        "model.add(MaxPooling2D(pool_size=(2,2)))\n",
        "model.add(Convolution2D(36,(3,3),activation='relu'))\n",
        "model.add(MaxPooling2D(pool_size=(2,2)))\n",
        "model.add(Flatten())\n",
        "model.add(Dense(62,activation='relu'))\n",
        "model.add(Dense(32,activation='relu'))\n",
        "model.add(Dense(16,activation='relu'))\n",
        "model.add(Dense(16,activation='softmax'))"
      ]
    },
    {
      "cell_type": "code",
      "execution_count": null,
      "metadata": {
        "colab": {
          "base_uri": "https://localhost:8080/"
        },
        "id": "_4u_mXv5sj_i",
        "outputId": "b0b51515-37a1-4b38-f033-854185d5b30e"
      },
      "outputs": [
        {
          "name": "stdout",
          "output_type": "stream",
          "text": [
            "Model: \"sequential_2\"\n",
            "_________________________________________________________________\n",
            " Layer (type)                Output Shape              Param #   \n",
            "=================================================================\n",
            " conv2d_2 (Conv2D)           (None, 118, 118, 12)      336       \n",
            "                                                                 \n",
            " max_pooling2d_2 (MaxPooling  (None, 59, 59, 12)       0         \n",
            " 2D)                                                             \n",
            "                                                                 \n",
            " conv2d_3 (Conv2D)           (None, 57, 57, 24)        2616      \n",
            "                                                                 \n",
            " max_pooling2d_3 (MaxPooling  (None, 28, 28, 24)       0         \n",
            " 2D)                                                             \n",
            "                                                                 \n",
            " conv2d_4 (Conv2D)           (None, 26, 26, 36)        7812      \n",
            "                                                                 \n",
            " max_pooling2d_4 (MaxPooling  (None, 13, 13, 36)       0         \n",
            " 2D)                                                             \n",
            "                                                                 \n",
            " flatten_2 (Flatten)         (None, 6084)              0         \n",
            "                                                                 \n",
            " dense_4 (Dense)             (None, 62)                377270    \n",
            "                                                                 \n",
            " dense_5 (Dense)             (None, 32)                2016      \n",
            "                                                                 \n",
            " dense_6 (Dense)             (None, 16)                528       \n",
            "                                                                 \n",
            " dense_7 (Dense)             (None, 16)                272       \n",
            "                                                                 \n",
            "=================================================================\n",
            "Total params: 390,850\n",
            "Trainable params: 390,850\n",
            "Non-trainable params: 0\n",
            "_________________________________________________________________\n"
          ]
        }
      ],
      "source": [
        "model.summary()"
      ]
    },
    {
      "cell_type": "code",
      "execution_count": null,
      "metadata": {
        "id": "Ju4vsyBssoLh"
      },
      "outputs": [],
      "source": [
        "model.compile(optimizer='adam',loss='categorical_crossentropy',metrics=['accuracy'])"
      ]
    },
    {
      "cell_type": "code",
      "execution_count": null,
      "metadata": {
        "colab": {
          "base_uri": "https://localhost:8080/"
        },
        "id": "ofmeUZSfsr8q",
        "outputId": "bf560b22-138c-4f41-827c-a89cb11558c2"
      },
      "outputs": [
        {
          "name": "stdout",
          "output_type": "stream",
          "text": [
            "Epoch 1/50\n",
            "19/19 [==============================] - 87s 5s/step - loss: 2.7661 - accuracy: 0.1000 - val_loss: 2.7393 - val_accuracy: 0.1210\n",
            "Epoch 2/50\n",
            "19/19 [==============================] - 83s 5s/step - loss: 2.6965 - accuracy: 0.1133 - val_loss: 2.6835 - val_accuracy: 0.1274\n",
            "Epoch 3/50\n",
            "19/19 [==============================] - 82s 4s/step - loss: 2.6298 - accuracy: 0.1267 - val_loss: 2.6883 - val_accuracy: 0.1210\n",
            "Epoch 4/50\n",
            "19/19 [==============================] - 82s 4s/step - loss: 2.5861 - accuracy: 0.1867 - val_loss: 2.7439 - val_accuracy: 0.2293\n",
            "Epoch 5/50\n",
            "19/19 [==============================] - 117s 6s/step - loss: 2.4058 - accuracy: 0.2467 - val_loss: 2.6765 - val_accuracy: 0.1847\n",
            "Epoch 6/50\n",
            "19/19 [==============================] - 83s 4s/step - loss: 2.3669 - accuracy: 0.2333 - val_loss: 2.8222 - val_accuracy: 0.1465\n",
            "Epoch 7/50\n",
            "19/19 [==============================] - 85s 5s/step - loss: 2.2708 - accuracy: 0.2400 - val_loss: 2.8055 - val_accuracy: 0.1210\n",
            "Epoch 8/50\n",
            "19/19 [==============================] - 119s 6s/step - loss: 2.1557 - accuracy: 0.2733 - val_loss: 2.8964 - val_accuracy: 0.1083\n",
            "Epoch 9/50\n",
            "19/19 [==============================] - 85s 5s/step - loss: 2.1885 - accuracy: 0.3133 - val_loss: 2.8098 - val_accuracy: 0.2611\n",
            "Epoch 10/50\n",
            "19/19 [==============================] - 83s 4s/step - loss: 2.0271 - accuracy: 0.3200 - val_loss: 2.8055 - val_accuracy: 0.1847\n",
            "Epoch 11/50\n",
            "19/19 [==============================] - 117s 6s/step - loss: 1.9117 - accuracy: 0.4067 - val_loss: 3.1032 - val_accuracy: 0.2038\n",
            "Epoch 12/50\n",
            "19/19 [==============================] - 81s 4s/step - loss: 1.8775 - accuracy: 0.3667 - val_loss: 2.9988 - val_accuracy: 0.2357\n",
            "Epoch 13/50\n",
            "19/19 [==============================] - 81s 4s/step - loss: 1.8537 - accuracy: 0.3533 - val_loss: 3.1207 - val_accuracy: 0.2484\n",
            "Epoch 14/50\n",
            "19/19 [==============================] - 82s 4s/step - loss: 1.5920 - accuracy: 0.4600 - val_loss: 3.1135 - val_accuracy: 0.2420\n",
            "Epoch 15/50\n",
            "19/19 [==============================] - 81s 4s/step - loss: 1.5482 - accuracy: 0.4867 - val_loss: 3.7095 - val_accuracy: 0.2548\n",
            "Epoch 16/50\n",
            "19/19 [==============================] - 80s 4s/step - loss: 1.5603 - accuracy: 0.4067 - val_loss: 3.8191 - val_accuracy: 0.2484\n",
            "Epoch 17/50\n",
            "19/19 [==============================] - 80s 4s/step - loss: 1.3729 - accuracy: 0.4867 - val_loss: 3.3545 - val_accuracy: 0.2357\n",
            "Epoch 18/50\n",
            "19/19 [==============================] - 81s 4s/step - loss: 1.3086 - accuracy: 0.5333 - val_loss: 3.6601 - val_accuracy: 0.2675\n",
            "Epoch 19/50\n",
            "19/19 [==============================] - 81s 4s/step - loss: 1.3150 - accuracy: 0.5533 - val_loss: 3.5771 - val_accuracy: 0.2548\n",
            "Epoch 20/50\n",
            "19/19 [==============================] - 82s 4s/step - loss: 1.0899 - accuracy: 0.6000 - val_loss: 3.8898 - val_accuracy: 0.2229\n",
            "Epoch 21/50\n",
            "19/19 [==============================] - 82s 4s/step - loss: 1.0124 - accuracy: 0.6800 - val_loss: 4.1843 - val_accuracy: 0.2611\n",
            "Epoch 22/50\n",
            "19/19 [==============================] - 82s 4s/step - loss: 1.0592 - accuracy: 0.6067 - val_loss: 3.5051 - val_accuracy: 0.2102\n",
            "Epoch 23/50\n",
            "19/19 [==============================] - 82s 4s/step - loss: 0.9508 - accuracy: 0.6933 - val_loss: 4.4337 - val_accuracy: 0.2803\n",
            "Epoch 24/50\n",
            "19/19 [==============================] - 117s 6s/step - loss: 0.7913 - accuracy: 0.7200 - val_loss: 4.9434 - val_accuracy: 0.2229\n",
            "Epoch 25/50\n",
            "19/19 [==============================] - 81s 4s/step - loss: 0.8327 - accuracy: 0.7000 - val_loss: 4.3416 - val_accuracy: 0.2866\n",
            "Epoch 26/50\n",
            "19/19 [==============================] - 81s 4s/step - loss: 0.7196 - accuracy: 0.8133 - val_loss: 4.5448 - val_accuracy: 0.2739\n",
            "Epoch 27/50\n",
            "19/19 [==============================] - 81s 4s/step - loss: 0.5688 - accuracy: 0.7933 - val_loss: 5.0350 - val_accuracy: 0.2675\n",
            "Epoch 28/50\n",
            "19/19 [==============================] - 80s 4s/step - loss: 0.5333 - accuracy: 0.8267 - val_loss: 6.0962 - val_accuracy: 0.2611\n",
            "Epoch 29/50\n",
            "19/19 [==============================] - 81s 4s/step - loss: 0.4714 - accuracy: 0.8667 - val_loss: 5.6410 - val_accuracy: 0.3057\n",
            "Epoch 30/50\n",
            "19/19 [==============================] - 83s 5s/step - loss: 0.3743 - accuracy: 0.8933 - val_loss: 6.2158 - val_accuracy: 0.2803\n",
            "Epoch 31/50\n",
            "19/19 [==============================] - 81s 4s/step - loss: 0.3712 - accuracy: 0.8800 - val_loss: 6.6775 - val_accuracy: 0.2611\n",
            "Epoch 32/50\n",
            "19/19 [==============================] - 117s 6s/step - loss: 0.3936 - accuracy: 0.8733 - val_loss: 6.4761 - val_accuracy: 0.2739\n",
            "Epoch 33/50\n",
            "19/19 [==============================] - 81s 4s/step - loss: 0.3207 - accuracy: 0.9067 - val_loss: 6.4551 - val_accuracy: 0.2994\n",
            "Epoch 34/50\n",
            "19/19 [==============================] - 81s 4s/step - loss: 0.2841 - accuracy: 0.9067 - val_loss: 6.3452 - val_accuracy: 0.2994\n",
            "Epoch 35/50\n",
            "19/19 [==============================] - 82s 4s/step - loss: 0.2364 - accuracy: 0.9333 - val_loss: 6.5411 - val_accuracy: 0.3121\n",
            "Epoch 36/50\n",
            "19/19 [==============================] - 82s 4s/step - loss: 0.1808 - accuracy: 0.9400 - val_loss: 7.4355 - val_accuracy: 0.3185\n",
            "Epoch 37/50\n",
            "19/19 [==============================] - 116s 6s/step - loss: 0.1125 - accuracy: 0.9733 - val_loss: 8.1777 - val_accuracy: 0.3121\n",
            "Epoch 38/50\n",
            "19/19 [==============================] - 116s 6s/step - loss: 0.1198 - accuracy: 0.9600 - val_loss: 8.0572 - val_accuracy: 0.3121\n",
            "Epoch 39/50\n",
            "19/19 [==============================] - 80s 4s/step - loss: 0.2090 - accuracy: 0.9267 - val_loss: 7.2143 - val_accuracy: 0.3057\n",
            "Epoch 40/50\n",
            "19/19 [==============================] - 80s 4s/step - loss: 0.3865 - accuracy: 0.8733 - val_loss: 10.3709 - val_accuracy: 0.3057\n",
            "Epoch 41/50\n",
            "19/19 [==============================] - 115s 6s/step - loss: 0.7138 - accuracy: 0.8267 - val_loss: 6.5822 - val_accuracy: 0.2675\n",
            "Epoch 42/50\n",
            "19/19 [==============================] - 80s 4s/step - loss: 0.4162 - accuracy: 0.8800 - val_loss: 6.4207 - val_accuracy: 0.3248\n",
            "Epoch 43/50\n",
            "19/19 [==============================] - 80s 4s/step - loss: 0.3536 - accuracy: 0.8933 - val_loss: 7.0266 - val_accuracy: 0.2102\n",
            "Epoch 44/50\n",
            "19/19 [==============================] - 81s 4s/step - loss: 0.5137 - accuracy: 0.8467 - val_loss: 6.8031 - val_accuracy: 0.2994\n",
            "Epoch 45/50\n",
            "19/19 [==============================] - 81s 4s/step - loss: 0.3416 - accuracy: 0.9000 - val_loss: 6.7521 - val_accuracy: 0.3057\n",
            "Epoch 46/50\n",
            "19/19 [==============================] - 79s 4s/step - loss: 0.1323 - accuracy: 0.9800 - val_loss: 7.1598 - val_accuracy: 0.3439\n",
            "Epoch 47/50\n",
            "19/19 [==============================] - 80s 4s/step - loss: 0.0839 - accuracy: 0.9800 - val_loss: 7.8019 - val_accuracy: 0.3057\n",
            "Epoch 48/50\n",
            "19/19 [==============================] - 80s 4s/step - loss: 0.0600 - accuracy: 0.9867 - val_loss: 8.8786 - val_accuracy: 0.2930\n",
            "Epoch 49/50\n",
            "19/19 [==============================] - 79s 4s/step - loss: 0.2299 - accuracy: 0.9533 - val_loss: 9.0269 - val_accuracy: 0.2803\n",
            "Epoch 50/50\n",
            "19/19 [==============================] - 116s 6s/step - loss: 0.2042 - accuracy: 0.9267 - val_loss: 7.8830 - val_accuracy: 0.2994\n"
          ]
        },
        {
          "data": {
            "text/plain": [
              "<keras.callbacks.History at 0x7fe2b2a2c6a0>"
            ]
          },
          "execution_count": 26,
          "metadata": {},
          "output_type": "execute_result"
        }
      ],
      "source": [
        "model.fit(train,batch_size=8,validation_data=test,epochs=50)"
      ]
    },
    {
      "cell_type": "code",
      "execution_count": null,
      "metadata": {
        "colab": {
          "base_uri": "https://localhost:8080/"
        },
        "id": "C1RK6lCX_OK0",
        "outputId": "7a639581-df9d-4c47-d422-ecee33c55cad"
      },
      "outputs": [
        {
          "name": "stdout",
          "output_type": "stream",
          "text": [
            "1/1 [==============================] - 0s 18ms/step\n",
            "3\n",
            "cbrtsh\n"
          ]
        }
      ],
      "source": [
        "# Testing 1\n",
        "img1 = image.load_img('/content/gretit.JPG',target_size=(120,120))\n",
        "img1 = image.img_to_array(img1)\n",
        "img1 = np.expand_dims(img1,axis=0)\n",
        "pred = np.argmax(model.predict(img1))\n",
        "print(pred)\n",
        "output = ['blasti','bonegl','brhkyt','cbrtsh','cmnmyn','gretit','hilpig','himbul','himgri','hsparo','indvul','jglowl','lbicrw','mgprob','rebimg','wcrsrt']\n",
        "print(output[pred])"
      ]
    },
    {
      "cell_type": "code",
      "execution_count": null,
      "metadata": {
        "colab": {
          "base_uri": "https://localhost:8080/"
        },
        "id": "4wxs1c_c_YfR",
        "outputId": "157ba6ef-df70-4e60-e2c7-2c8620759539"
      },
      "outputs": [
        {
          "name": "stdout",
          "output_type": "stream",
          "text": [
            "1/1 [==============================] - 0s 20ms/step\n",
            "9\n",
            "hsparo\n"
          ]
        }
      ],
      "source": [
        "# Testing 2\n",
        "img2 = image.load_img('/content/hsparo.JPG',target_size=(120,120))\n",
        "img2 = image.img_to_array(img2)\n",
        "img2 = np.expand_dims(img2,axis=0)\n",
        "pred = np.argmax(model.predict(img2))\n",
        "print(pred)\n",
        "output = ['blasti','bonegl','brhkyt','cbrtsh','cmnmyn','gretit','hilpig','himbul','himgri','hsparo','indvul','jglowl','lbicrw','mgprob','rebimg','wcrsrt']\n",
        "print(output[pred])"
      ]
    },
    {
      "cell_type": "code",
      "execution_count": null,
      "metadata": {
        "colab": {
          "base_uri": "https://localhost:8080/"
        },
        "id": "HwpYx9Ip_eV-",
        "outputId": "04f69b0a-a0f7-4047-92ab-46c8ac12de2d"
      },
      "outputs": [
        {
          "name": "stdout",
          "output_type": "stream",
          "text": [
            "1/1 [==============================] - 0s 22ms/step\n",
            "1\n",
            "bonegl\n"
          ]
        }
      ],
      "source": [
        "# Testing 3\n",
        "img2 = image.load_img('/content/bonegl.jpg',target_size=(120,120))\n",
        "img2 = image.img_to_array(img2)\n",
        "img2 = np.expand_dims(img2,axis=0)\n",
        "pred = np.argmax(model.predict(img2))\n",
        "print(pred)\n",
        "output = ['blasti','bonegl','brhkyt','cbrtsh','cmnmyn','gretit','hilpig','himbul','himgri','hsparo','indvul','jglowl','lbicrw','mgprob','rebimg','wcrsrt']\n",
        "print(output[pred])"
      ]
    },
    {
      "cell_type": "code",
      "execution_count": null,
      "metadata": {
        "colab": {
          "base_uri": "https://localhost:8080/"
        },
        "id": "PYsJ6q3g_-ap",
        "outputId": "481efd8f-413f-4806-8ea8-b88c42268cbb"
      },
      "outputs": [
        {
          "name": "stdout",
          "output_type": "stream",
          "text": [
            "1/1 [==============================] - 0s 19ms/step\n",
            "15\n",
            "wcrsrt\n"
          ]
        }
      ],
      "source": [
        "# Testing 4\n",
        "img2 = image.load_img('/content/brhkyt.JPG',target_size=(120,120))\n",
        "img2 = image.img_to_array(img2)\n",
        "img2 = np.expand_dims(img2,axis=0)\n",
        "pred = np.argmax(model.predict(img2))\n",
        "print(pred)\n",
        "output = ['blasti','bonegl','brhkyt','cbrtsh','cmnmyn','gretit','hilpig','himbul','himgri','hsparo','indvul','jglowl','lbicrw','mgprob','rebimg','wcrsrt']\n",
        "print(output[pred])"
      ]
    },
    {
      "cell_type": "code",
      "execution_count": null,
      "metadata": {
        "colab": {
          "base_uri": "https://localhost:8080/"
        },
        "id": "pDZbNDdJANcC",
        "outputId": "e2158495-8750-4665-da6a-37687ba4cd36"
      },
      "outputs": [
        {
          "name": "stdout",
          "output_type": "stream",
          "text": [
            "1/1 [==============================] - 0s 25ms/step\n",
            "8\n",
            "himgri\n"
          ]
        }
      ],
      "source": [
        "# Testing 5\n",
        "img2 = image.load_img('/content/himgri.jpg',target_size=(120,120))\n",
        "img2 = image.img_to_array(img2)\n",
        "img2 = np.expand_dims(img2,axis=0)\n",
        "pred = np.argmax(model.predict(img2))\n",
        "print(pred)\n",
        "output = ['blasti','bonegl','brhkyt','cbrtsh','cmnmyn','gretit','hilpig','himbul','himgri','hsparo','indvul','jglowl','lbicrw','mgprob','rebimg','wcrsrt']\n",
        "print(output[pred])"
      ]
    },
    {
      "attachments": {},
      "cell_type": "markdown",
      "metadata": {
        "id": "R0roYyx5AovN"
      },
      "source": [
        "\n",
        "Transfer Learning\n"
      ]
    },
    {
      "cell_type": "code",
      "execution_count": null,
      "metadata": {
        "id": "vnJ4WFWMAYv-"
      },
      "outputs": [],
      "source": [
        "from tensorflow.keras.layers import Dense,Flatten,Input\n",
        "from tensorflow.keras.models import Model\n",
        "from tensorflow.keras.preprocessing import image\n",
        "from tensorflow.keras.preprocessing.image import ImageDataGenerator, load_img\n",
        "import numpy as np"
      ]
    },
    {
      "cell_type": "code",
      "execution_count": null,
      "metadata": {
        "colab": {
          "base_uri": "https://localhost:8080/"
        },
        "id": "X62igUw6AtNY",
        "outputId": "b4d493fd-692a-4ec6-87ad-cb86160912df"
      },
      "outputs": [
        {
          "name": "stdout",
          "output_type": "stream",
          "text": [
            "Downloading data from https://storage.googleapis.com/tensorflow/keras-applications/vgg16/vgg16_weights_tf_dim_ordering_tf_kernels_notop.h5\n",
            "58889256/58889256 [==============================] - 0s 0us/step\n"
          ]
        }
      ],
      "source": [
        "from tensorflow.keras.applications.vgg16 import VGG16, preprocess_input\n",
        "# Adding the preprocessing layer to the front of vgg\n",
        "\n",
        "vgg = VGG16(include_top=False,weights='imagenet',input_shape=(224,224,3))"
      ]
    },
    {
      "cell_type": "code",
      "execution_count": null,
      "metadata": {
        "colab": {
          "base_uri": "https://localhost:8080/"
        },
        "id": "XbyYKq7WBAsF",
        "outputId": "ad40d19f-3178-4437-e0b8-534dbf90dbdb"
      },
      "outputs": [
        {
          "name": "stdout",
          "output_type": "stream",
          "text": [
            "<keras.engine.input_layer.InputLayer object at 0x7fe293eacdf0>\n",
            "<keras.layers.convolutional.conv2d.Conv2D object at 0x7fe293e95ba0>\n",
            "<keras.layers.convolutional.conv2d.Conv2D object at 0x7fe293e961d0>\n",
            "<keras.layers.pooling.max_pooling2d.MaxPooling2D object at 0x7fe293e7e110>\n",
            "<keras.layers.convolutional.conv2d.Conv2D object at 0x7fe2b1a8d960>\n",
            "<keras.layers.convolutional.conv2d.Conv2D object at 0x7fe293e963b0>\n",
            "<keras.layers.pooling.max_pooling2d.MaxPooling2D object at 0x7fe293e7f9a0>\n",
            "<keras.layers.convolutional.conv2d.Conv2D object at 0x7fe293e7e1a0>\n",
            "<keras.layers.convolutional.conv2d.Conv2D object at 0x7fe293e7c8e0>\n",
            "<keras.layers.convolutional.conv2d.Conv2D object at 0x7fe293ed0940>\n",
            "<keras.layers.pooling.max_pooling2d.MaxPooling2D object at 0x7fe293e7f100>\n",
            "<keras.layers.convolutional.conv2d.Conv2D object at 0x7fe293e7ee90>\n",
            "<keras.layers.convolutional.conv2d.Conv2D object at 0x7fe293ed1f00>\n",
            "<keras.layers.convolutional.conv2d.Conv2D object at 0x7fe293ed3280>\n",
            "<keras.layers.pooling.max_pooling2d.MaxPooling2D object at 0x7fe293ed0820>\n",
            "<keras.layers.convolutional.conv2d.Conv2D object at 0x7fe293ed14b0>\n",
            "<keras.layers.convolutional.conv2d.Conv2D object at 0x7fe2b2a408b0>\n",
            "<keras.layers.convolutional.conv2d.Conv2D object at 0x7fe2b2af97e0>\n",
            "<keras.layers.pooling.max_pooling2d.MaxPooling2D object at 0x7fe293ed0070>\n"
          ]
        }
      ],
      "source": [
        "#Train model with existing weights\n",
        "for layer in vgg.layers:\n",
        "  print(layer)"
      ]
    },
    {
      "cell_type": "code",
      "execution_count": null,
      "metadata": {
        "id": "Lqo1W5AxBI2A"
      },
      "outputs": [],
      "source": [
        "\n",
        "\n",
        "# Train model with existing weights\n",
        "\n",
        "for layer in vgg.layers:\n",
        "  layer.trainable=False\n",
        "     \n",
        "\n",
        "x = Flatten()(vgg.output)\n",
        "     \n",
        "\n",
        "# output layer\n",
        "\n",
        "prediction = Dense(4,activation='softmax')(x)\n",
        "     \n",
        "\n",
        "# Create Vgg16 model\n",
        "\n",
        "model = Model(inputs=vgg.input,outputs=prediction)\n",
        "     \n"
      ]
    },
    {
      "cell_type": "code",
      "execution_count": null,
      "metadata": {
        "colab": {
          "base_uri": "https://localhost:8080/"
        },
        "id": "5dsxww2lBQbL",
        "outputId": "94866842-3c1b-4422-af16-23d9325cea9a"
      },
      "outputs": [
        {
          "name": "stdout",
          "output_type": "stream",
          "text": [
            "Model: \"model\"\n",
            "_________________________________________________________________\n",
            " Layer (type)                Output Shape              Param #   \n",
            "=================================================================\n",
            " input_1 (InputLayer)        [(None, 224, 224, 3)]     0         \n",
            "                                                                 \n",
            " block1_conv1 (Conv2D)       (None, 224, 224, 64)      1792      \n",
            "                                                                 \n",
            " block1_conv2 (Conv2D)       (None, 224, 224, 64)      36928     \n",
            "                                                                 \n",
            " block1_pool (MaxPooling2D)  (None, 112, 112, 64)      0         \n",
            "                                                                 \n",
            " block2_conv1 (Conv2D)       (None, 112, 112, 128)     73856     \n",
            "                                                                 \n",
            " block2_conv2 (Conv2D)       (None, 112, 112, 128)     147584    \n",
            "                                                                 \n",
            " block2_pool (MaxPooling2D)  (None, 56, 56, 128)       0         \n",
            "                                                                 \n",
            " block3_conv1 (Conv2D)       (None, 56, 56, 256)       295168    \n",
            "                                                                 \n",
            " block3_conv2 (Conv2D)       (None, 56, 56, 256)       590080    \n",
            "                                                                 \n",
            " block3_conv3 (Conv2D)       (None, 56, 56, 256)       590080    \n",
            "                                                                 \n",
            " block3_pool (MaxPooling2D)  (None, 28, 28, 256)       0         \n",
            "                                                                 \n",
            " block4_conv1 (Conv2D)       (None, 28, 28, 512)       1180160   \n",
            "                                                                 \n",
            " block4_conv2 (Conv2D)       (None, 28, 28, 512)       2359808   \n",
            "                                                                 \n",
            " block4_conv3 (Conv2D)       (None, 28, 28, 512)       2359808   \n",
            "                                                                 \n",
            " block4_pool (MaxPooling2D)  (None, 14, 14, 512)       0         \n",
            "                                                                 \n",
            " block5_conv1 (Conv2D)       (None, 14, 14, 512)       2359808   \n",
            "                                                                 \n",
            " block5_conv2 (Conv2D)       (None, 14, 14, 512)       2359808   \n",
            "                                                                 \n",
            " block5_conv3 (Conv2D)       (None, 14, 14, 512)       2359808   \n",
            "                                                                 \n",
            " block5_pool (MaxPooling2D)  (None, 7, 7, 512)         0         \n",
            "                                                                 \n",
            " flatten_3 (Flatten)         (None, 25088)             0         \n",
            "                                                                 \n",
            " dense_8 (Dense)             (None, 4)                 100356    \n",
            "                                                                 \n",
            "=================================================================\n",
            "Total params: 14,815,044\n",
            "Trainable params: 100,356\n",
            "Non-trainable params: 14,714,688\n",
            "_________________________________________________________________\n"
          ]
        }
      ],
      "source": [
        "model.summary()"
      ]
    },
    {
      "cell_type": "code",
      "execution_count": null,
      "metadata": {
        "id": "Gi_cyNPJBVwi"
      },
      "outputs": [],
      "source": [
        "model.compile(loss='categorical_crossentropy',optimizer='adam',metrics=['accuracy'])"
      ]
    }
  ],
  "metadata": {
    "accelerator": "GPU",
    "colab": {
      "gpuType": "T4",
      "provenance": []
    },
    "kernelspec": {
      "display_name": "Python 3",
      "name": "python3"
    },
    "language_info": {
      "name": "python"
    }
  },
  "nbformat": 4,
  "nbformat_minor": 0
}
