{
 "cells": [
  {
   "cell_type": "code",
   "execution_count": 1,
   "id": "16bcced6",
   "metadata": {},
   "outputs": [],
   "source": [
    "# NAME : SARVANI SHIREEN TAJ\n",
    "# REG.NO : 20MID0219"
   ]
  },
  {
   "cell_type": "code",
   "execution_count": 8,
   "id": "6989aebb",
   "metadata": {},
   "outputs": [
    {
     "name": "stdout",
     "output_type": "stream",
     "text": [
      "               Feature 1  Feature 2  Feature 3  Feature 4\n",
      "Observation 1   0.783385   0.130800   0.752058   0.949169\n",
      "Observation 2   0.877879   0.706555   0.640497   0.429013\n",
      "Observation 3   0.999108   0.684426   0.631957   0.999130\n",
      "Observation 4   0.288467   0.580532   0.176735   0.172042\n"
     ]
    }
   ],
   "source": [
    "# Task - 1 \n",
    "# Create a pandas dataframe (DataFrame name as 'df') with numpy random values (4 features and 4 observation)\n",
    "import numpy as np\n",
    "import pandas as pd\n",
    "#generatung random values\n",
    "d = np.random.rand(4, 4)\n",
    "# Creating a DataFrame\n",
    "df = pd.DataFrame(d, columns=['Feature 1', 'Feature 2', 'Feature 3', 'Feature 4'], index =['Observation 1', 'Observation 2', 'Observation 3', 'Observation 4'])\n",
    "# Print the DataFrame\n",
    "print(df)"
   ]
  },
  {
   "cell_type": "code",
   "execution_count": 4,
   "id": "bfe5df81",
   "metadata": {},
   "outputs": [
    {
     "name": "stdout",
     "output_type": "stream",
     "text": [
      "               Random Value 1  Random Value 2  Random Value 3  Random Value 4\n",
      "Observation 1        0.307109        0.348190        0.854581        0.082943\n",
      "Observation 2        0.786966        0.209068        0.936908        0.031534\n",
      "Observation 3        0.712919        0.560255        0.001659        0.124715\n",
      "Observation 4        0.458660        0.701171        0.908184        0.085615\n"
     ]
    }
   ],
   "source": [
    "# Task - 2 \n",
    "# Rename the task - 1 'df' dataframe column names to 'Random value 1', 'Random value 2', 'Random value 3' & 'Random value 4'import numpy as np\n",
    "import pandas as pd\n",
    "#Renaming Columns\n",
    "df = df.rename(columns = {'Feature 1' : 'Random Value 1',\n",
    " 'Feature 2' : 'Random Value 2',\n",
    "'Feature 3' : 'Random Value 3',\n",
    "'Feature 4' : 'Random Value 4'})\n",
    "# Print the DataFrame\n",
    "print(df)"
   ]
  },
  {
   "cell_type": "code",
   "execution_count": 5,
   "id": "cabd1532",
   "metadata": {},
   "outputs": [
    {
     "name": "stdout",
     "output_type": "stream",
     "text": [
      "               Random Value 1  Random Value 2  Random Value 3  Random Value 4\n",
      "Observation 1        0.307109        0.348190        0.854581        0.082943\n",
      "Observation 2        0.786966        0.209068        0.936908        0.031534\n",
      "Observation 3        0.712919        0.560255        0.001659        0.124715\n",
      "Observation 4        0.458660        0.701171        0.908184        0.085615\n",
      "\n",
      "\n",
      "       Random Value 1  Random Value 2  Random Value 3  Random Value 4\n",
      "count        4.000000        4.000000        4.000000        4.000000\n",
      "mean         0.566413        0.454671        0.675333        0.081202\n",
      "std          0.222828        0.218761        0.450410        0.038222\n",
      "min          0.307109        0.209068        0.001659        0.031534\n",
      "25%          0.420772        0.313409        0.641351        0.070091\n",
      "50%          0.585790        0.454223        0.881383        0.084279\n",
      "75%          0.731431        0.595484        0.915365        0.095390\n",
      "max          0.786966        0.701171        0.936908        0.124715\n"
     ]
    }
   ],
   "source": [
    "# Task - 3 \n",
    "# Find the descriptive statistics of the 'df' dataframe.import numpy as np\n",
    "import pandas as pd\n",
    "#Statistical Description\n",
    "stat = df.describe()\n",
    "# Print the DataFrame\n",
    "print(df)\n",
    "print('\\n')\n",
    "print(stat)\n"
   ]
  },
  {
   "cell_type": "code",
   "execution_count": 6,
   "id": "c63888d1",
   "metadata": {},
   "outputs": [
    {
     "name": "stdout",
     "output_type": "stream",
     "text": [
      "Random Value 1    0\n",
      "Random Value 2    0\n",
      "Random Value 3    0\n",
      "Random Value 4    0\n",
      "dtype: int64\n",
      "\n",
      "\n",
      "Random Value 1    float64\n",
      "Random Value 2    float64\n",
      "Random Value 3    float64\n",
      "Random Value 4    float64\n",
      "dtype: object\n"
     ]
    }
   ],
   "source": [
    "# Task - 4\n",
    "# Check for the null values in 'df' and find the data type of the columns.import numpy as np\n",
    "import pandas as pd\n",
    "#Checking NULL values\n",
    "null_val = df.isnull().sum()\n",
    "#Checking Data types\n",
    "data_type = df.dtypes\n",
    "# Print the DataFrame\n",
    "print(null_val)\n",
    "print('\\n')\n",
    "print(data_type)\n"
   ]
  },
  {
   "cell_type": "code",
   "execution_count": 7,
   "id": "89e54307",
   "metadata": {},
   "outputs": [
    {
     "name": "stdout",
     "output_type": "stream",
     "text": [
      "Columns using location method:\n",
      "               Random Value 2  Random Value 3\n",
      "Observation 1        0.348190        0.854581\n",
      "Observation 2        0.209068        0.936908\n",
      "Observation 3        0.560255        0.001659\n",
      "Observation 4        0.701171        0.908184\n",
      "\n",
      "Columns using index location method :\n",
      "               Random Value 2  Random Value 3\n",
      "Observation 1        0.348190        0.854581\n",
      "Observation 2        0.209068        0.936908\n",
      "Observation 3        0.560255        0.001659\n",
      "Observation 4        0.701171        0.908184\n"
     ]
    }
   ],
   "source": [
    "# Task - 5\n",
    "# Display the 'Random value 2' & 'Random value 3' columns with location method and index location methodimport numpy as np\n",
    "import pandas as pd\n",
    "# Display columns using the location method\n",
    "location_method = df[['Random Value 2', 'Random Value 3']]\n",
    "print(\"Columns using location method:\")\n",
    "print(location_method)\n",
    "# Display columns using the index location method\n",
    "index_location_method = df.iloc[:, 1:3]\n",
    "print(\"\\nColumns using index location method :\")\n",
    "print(index_location_method)"
   ]
  },
  {
   "cell_type": "code",
   "execution_count": null,
   "id": "373b3925",
   "metadata": {},
   "outputs": [],
   "source": []
  }
 ],
 "metadata": {
  "kernelspec": {
   "display_name": "Python 3 (ipykernel)",
   "language": "python",
   "name": "python3"
  },
  "language_info": {
   "codemirror_mode": {
    "name": "ipython",
    "version": 3
   },
   "file_extension": ".py",
   "mimetype": "text/x-python",
   "name": "python",
   "nbconvert_exporter": "python",
   "pygments_lexer": "ipython3",
   "version": "3.9.13"
  }
 },
 "nbformat": 4,
 "nbformat_minor": 5
}
